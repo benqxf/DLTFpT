{
  "nbformat": 4,
  "nbformat_minor": 0,
  "metadata": {
    "colab": {
      "name": "mam_failure2",
      "provenance": [],
      "collapsed_sections": [],
      "authorship_tag": "ABX9TyN2oKg80OY5FPQif5D5bT/5",
      "include_colab_link": true
    },
    "kernelspec": {
      "name": "python3",
      "display_name": "Python 3"
    },
    "language_info": {
      "name": "python"
    }
  },
  "cells": [
    {
      "cell_type": "markdown",
      "metadata": {
        "id": "view-in-github",
        "colab_type": "text"
      },
      "source": [
        "<a href=\"https://colab.research.google.com/github/benqxf/DLTFpT/blob/master/mam_failure2.ipynb\" target=\"_parent\"><img src=\"https://colab.research.google.com/assets/colab-badge.svg\" alt=\"Open In Colab\"/></a>"
      ]
    },
    {
      "cell_type": "code",
      "execution_count": null,
      "metadata": {
        "id": "Zne3GpRvFKHB"
      },
      "outputs": [],
      "source": [
        "# Importing Tensor flow and Keras\n",
        "import tensorflow as tf\n",
        "from tensorflow import keras\n",
        "\n",
        "\n",
        "# Functions\n",
        "\n",
        "\n",
        "#Data frames (data sets)\n",
        "#Reference https://www.youtube.com/watch?v=u2TjZzNuly8\n",
        "# timecode 1:36/5:26\n",
        "\n",
        "import zipfile\n",
        "local_zip = '/tmp/rps.zip'\n",
        "zip_ref = zipfile.ZipFile(local_zip, 'r')\n",
        "zip_ref.extractall('/tmp/')\n",
        "zip_ref.close()\n",
        "\n",
        "local_zip = '/tmp/rps-test-set.zip'\n",
        "zip_ref = zipfile.ZipFile(local_zip, 'r')\n",
        "zip_ref.extractall ('/tmp/')\n",
        "zip_ref.close()\n",
        "\n",
        "# Training directory\n",
        "TRAINING_DIR = \"/tmp/rps\"\n",
        "training_datagen = ImageDataGenerator (rescale = 1./255)\n",
        "\n",
        "\n",
        "# Neural Networks\n",
        "model = \n",
        "\n",
        "# Neural network: Convolutional to train the mnodel for logs that have not see before. Filter data before running its neural network\n",
        ". \n",
        "\n",
        "# Optimizer functions to generate new funtions to see if it can do better\n",
        "\n",
        "# Loss functions\n",
        "\n",
        "\n",
        "# Training\n",
        "model.fit(a, b, epochs = 5)\n",
        "\n",
        "\n",
        "# Test Loss passing to the evaluate method\n",
        "test_loss, test_acc = model.evaluate(test_images, test_labels)\n",
        "\n",
        "\n",
        "#Predictions\n",
        "preductions = model.predict(my_images)\n",
        "\n",
        "\n",
        "#Classifier \n",
        "\n",
        "\n"
      ]
    }
  ]
}